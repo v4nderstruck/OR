{
 "cells": [
  {
   "cell_type": "code",
   "execution_count": 18,
   "metadata": {},
   "outputs": [
    {
     "ename": "TypeError",
     "evalue": "parse() takes 1 positional argument but 2 were given",
     "output_type": "error",
     "traceback": [
      "\u001b[0;31m---------------------------------------------------------------------------\u001b[0m",
      "\u001b[0;31mTypeError\u001b[0m                                 Traceback (most recent call last)",
      "Cell \u001b[0;32mIn[18], line 2\u001b[0m\n\u001b[1;32m      1\u001b[0m \u001b[39mimport\u001b[39;00m \u001b[39mgrblogtools\u001b[39;00m \u001b[39mas\u001b[39;00m \u001b[39mglt\u001b[39;00m\n\u001b[0;32m----> 2\u001b[0m summary \u001b[39m=\u001b[39m glt\u001b[39m.\u001b[39;49mparse(\u001b[39m\"\u001b[39;49m\u001b[39m./modelCutting.log\u001b[39;49m\u001b[39m\"\u001b[39;49m, \u001b[39m\"\u001b[39;49m\u001b[39mmodel.log\u001b[39;49m\u001b[39m\"\u001b[39;49m)\u001b[39m.\u001b[39msummary()\n\u001b[1;32m      4\u001b[0m summary\n",
      "\u001b[0;31mTypeError\u001b[0m: parse() takes 1 positional argument but 2 were given"
     ]
    }
   ],
   "source": [
    "import grblogtools as glt\n",
    "summary = glt.parse([\"./modelCutting.log\", \"model.log\"]).summary()\n",
    "\n",
    "summary"
   ]
  },
  {
   "cell_type": "code",
   "execution_count": null,
   "metadata": {},
   "outputs": [
    {
     "data": {
      "application/vnd.jupyter.widget-view+json": {
       "model_id": "2d6d1d1831ea42c9a5449b3f9ad795b1",
       "version_major": 2,
       "version_minor": 0
      },
      "text/plain": [
       "interactive(children=(Dropdown(description='x', options=('Platform', 'Time', 'PhysicalCores', 'LogicalProcesso…"
      ]
     },
     "metadata": {},
     "output_type": "display_data"
    }
   ],
   "source": [
    "glt.plot(summary)"
   ]
  }
 ],
 "metadata": {
  "kernelspec": {
   "display_name": "POM",
   "language": "python",
   "name": "python3"
  },
  "language_info": {
   "codemirror_mode": {
    "name": "ipython",
    "version": 3
   },
   "file_extension": ".py",
   "mimetype": "text/x-python",
   "name": "python",
   "nbconvert_exporter": "python",
   "pygments_lexer": "ipython3",
   "version": "3.9.16"
  },
  "orig_nbformat": 4
 },
 "nbformat": 4,
 "nbformat_minor": 2
}

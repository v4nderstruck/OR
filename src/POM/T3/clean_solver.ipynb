{
 "cells": [
  {
   "cell_type": "code",
   "execution_count": 1,
   "metadata": {},
   "outputs": [],
   "source": [
    "import dataclasses\n",
    "\n",
    "body_parts_names = [\"Biceps\",\"Chest\",\"Shoulder\",\"Triceps\",\"Abdominals\", \"Upper Back\",\"Lower Back\", \"Upper Thighs\",\"Lower Thighs\", \"Calves\",\"Glutes\"]\n",
    "\n",
    "@dataclasses.dataclass\n",
    "class Exercise:\n",
    "    category: str\n",
    "    name: str\n",
    "    body_rest: dict[str, int]\n",
    "    total_time: int\n"
   ]
  },
  {
   "cell_type": "code",
   "execution_count": 2,
   "metadata": {},
   "outputs": [],
   "source": [
    "# dict[str, Exercise ]\n",
    "exercises: dict[str, Exercise] = {}\n",
    "# dict[str, list[str]]\n",
    "body_parts_exercises: dict[str, list[str]] = {}\n",
    "# dict[str, list[tuple[str, int]]]\n",
    "blocked_exercises: dict[str, dict[tuple[str, int]]] = {}"
   ]
  },
  {
   "cell_type": "code",
   "execution_count": 16,
   "metadata": {},
   "outputs": [
    {
     "name": "stdout",
     "output_type": "stream",
     "text": [
      "Day: 1 - ['Running Warmup', 'Bench Press', 'Benchpress Inclined Dunbells', 'Cable Crossover', 'Core Workout', 'Dips', 'Lateral Raises', 'Triceps Overhead Pull', 'Triceps Rope Pulldown'] \n",
      "Day: 2 - ['Running Warmup', 'Abduction Machine', 'Barbell Row', 'Biceps Curls Dunbells', 'Cable Row Narrow', 'Cable Row Wide', 'Deadlift', 'Lat Pull', 'Lunges'] \n",
      "Day: 4 - ['Cycling Warmup', 'Bench Press', 'Benchpress Inclined Dunbells', 'Butterfly', 'Cable Crossover', 'Lateral Raises', 'Pushups', 'Shoulder Press', 'Triceps Rope Pulldown'] \n",
      "Day: 5 - ['Rowing Warmup', 'Biceps Curls Dunbells', 'Cable Row Narrow', 'Cable Row Wide', 'Core Workout', 'Deadlift', 'Incline Biceps Curl', 'Lat Pull', 'Lunges'] \n",
      "Day: 8 - ['Running Warmup', 'Bench Press', 'Benchpress Inclined Dunbells', 'Biceps Curls Dunbells', 'Cable Crossover', 'Cable Row Narrow', 'Core Workout', 'Deadlift', 'Lunges'] \n",
      "Day: 11 - ['Rowing Warmup', 'Barbell Row', 'Biceps Curls Dunbells', 'Cable Row Narrow', 'Cable Row Wide', 'Core Workout', 'Deadlift', 'Incline Biceps Curl', 'Pullups'] \n",
      "Day: 12 - ['Cycling Warmup', 'Adduction Machine', 'Bench Press', 'Benchpress Inclined Dunbells', 'Butterfly', 'Cable Crossover', 'Dips', 'Lateral Raises', 'Lunges'] \n",
      "Day: 14 - ['Cycling Warmup', 'Barbell Row', 'Biceps Curls Dunbells', 'Cable Row Narrow', 'Cable Row Wide', 'Core Workout', 'Deadlift', 'Incline Biceps Curl', 'Lat Pull'] \n",
      "Day: 15 - ['Cycling Warmup', 'Bench Press', 'Benchpress Inclined Dunbells', 'Butterfly', 'Cable Crossover', 'Dips', 'Lateral Raises', 'Lunges', 'Pushups'] \n",
      "Day: 17 - ['Running Warmup', 'Barbell Row', 'Biceps Curls Dunbells', 'Butterfly Reverse', 'Cable Row Narrow', 'Core Workout', 'Deadlift', 'Incline Biceps Curl', 'Lat Pull'] \n",
      "Day: 18 - ['Cycling Warmup', 'Bench Press', 'Benchpress Declined Dunbells', 'Benchpress Inclined Dunbells', 'Cable Crossover', 'Dips', 'Lateral Raises', 'Lunges', 'Triceps Rope Pulldown'] \n",
      "Day: 21 - ['Running Warmup', 'Bench Press', 'Benchpress Inclined Dunbells', 'Biceps Curls Dunbells', 'Cable Crossover', 'Cable Row Narrow', 'Core Workout', 'Deadlift', 'Lunges'] \n"
     ]
    }
   ],
   "source": [
    "import icalendar\n",
    "import datetime\n",
    "import pandas\n",
    "file = open(\"./workouts.ics\")\n",
    "cal = icalendar.Calendar.from_ical(file.read())\n",
    "start = datetime.datetime(2023, 7, 20)\n",
    "for component in cal.walk():\n",
    "    if component.name == \"VEVENT\":\n",
    "        exercises = [exercise for exercise in component.get(\"description\").split(\"\\n\") if exercise != \"\"]\n",
    "        print(f\"Day: {(component.decoded('dtstart') - start).days +1} - {exercises} \")"
   ]
  }
 ],
 "metadata": {
  "kernelspec": {
   "display_name": "POM",
   "language": "python",
   "name": "python3"
  },
  "language_info": {
   "codemirror_mode": {
    "name": "ipython",
    "version": 3
   },
   "file_extension": ".py",
   "mimetype": "text/x-python",
   "name": "python",
   "nbconvert_exporter": "python",
   "pygments_lexer": "ipython3",
   "version": "3.9.16"
  },
  "orig_nbformat": 4
 },
 "nbformat": 4,
 "nbformat_minor": 2
}
